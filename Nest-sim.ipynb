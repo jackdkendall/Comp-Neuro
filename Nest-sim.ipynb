{
 "metadata": {
  "name": "",
  "signature": "sha256:361bbb7183fc78b7815a24e2b12a776c5e1d0d4d71e8f6855544860926298cb6"
 },
 "nbformat": 3,
 "nbformat_minor": 0,
 "worksheets": [
  {
   "cells": [
    {
     "cell_type": "code",
     "collapsed": false,
     "input": [
      "from __future__ import division\n",
      "import numpy as np\n",
      "import matplotlib.pyplot as plt\n",
      "import nest\n",
      "\n",
      "nest.ResetKernel()"
     ],
     "language": "python",
     "metadata": {},
     "outputs": [],
     "prompt_number": 7
    },
    {
     "cell_type": "code",
     "collapsed": false,
     "input": [
      "params_input = [{\"I_e\": 350.0 + 50*np.random.rand(), \"tau_syn_ex\": 0.05, \"tau_syn_in\": 0.1} for x in range(100)]\n",
      "params = {\"tau_syn_ex\": 0.05, \"tau_syn_in\": 0.1}\n",
      "\n",
      "e11 = nest.Create(\"iaf_psc_alpha\", 100, params_input)\n",
      "e12 = nest.Create(\"iaf_psc_alpha\", 100, params_input)\n",
      "\n",
      "e21 = nest.Create(\"iaf_psc_alpha\", 100, params_input)\n",
      "e22 = nest.Create(\"iaf_psc_alpha\", 100, params_input)\n",
      "\n",
      "e31 = nest.Create(\"iaf_psc_alpha\", 100, params)\n",
      "e32 = nest.Create(\"iaf_psc_alpha\", 100, params)\n",
      "\n",
      "i11 = nest.Create(\"iaf_psc_alpha\", 100, params)\n",
      "i12 = nest.Create(\"iaf_psc_alpha\", 100, params)\n",
      "\n",
      "i21 = nest.Create(\"iaf_psc_alpha\", 100, params)\n",
      "i22 = nest.Create(\"iaf_psc_alpha\", 100, params)\n",
      "\n",
      "i31 = nest.Create(\"iaf_psc_alpha\", 100, params)\n",
      "i32 = nest.Create(\"iaf_psc_alpha\", 100, params)"
     ],
     "language": "python",
     "metadata": {},
     "outputs": [],
     "prompt_number": 8
    },
    {
     "cell_type": "code",
     "collapsed": false,
     "input": [
      "k_ee = 3\n",
      "k_ei = 3\n",
      "k_ie = -3\n",
      "k_ii = -1\n",
      "k_alpha = 0.5\n",
      "k_beta = 0.5\n",
      "\n",
      "nest.Connect(e11, e11, \"all_to_all\", syn_spec={\"weight\": {\"distribution\": \"uniform\", \"low\": k_ee - 0.2*k_ee, \"high\": k_ee + 0.2*k_ee}})\n",
      "nest.Connect(e21, e21, \"all_to_all\", syn_spec={\"weight\": {\"distribution\": \"uniform\", \"low\": k_ee - 0.2*k_ee, \"high\": k_ee + 0.2*k_ee}})\n",
      "nest.Connect(e31, e31, \"all_to_all\", syn_spec={\"weight\": {\"distribution\": \"uniform\", \"low\": k_ee - 0.2*k_ee, \"high\": k_ee + 0.2*k_ee}})\n",
      "\n",
      "nest.Connect(e12, e12, \"all_to_all\", syn_spec={\"weight\": {\"distribution\": \"uniform\", \"low\": k_ee - 0.2*k_ee, \"high\": k_ee + 0.2*k_ee}})\n",
      "nest.Connect(e22, e22, \"all_to_all\", syn_spec={\"weight\": {\"distribution\": \"uniform\", \"low\": k_ee - 0.2*k_ee, \"high\": k_ee + 0.2*k_ee}})\n",
      "nest.Connect(e32, e32, \"all_to_all\", syn_spec={\"weight\": {\"distribution\": \"uniform\", \"low\": k_ee - 0.2*k_ee, \"high\": k_ee + 0.2*k_ee}})\n",
      "\n",
      "nest.Connect(i11, i11, \"all_to_all\", syn_spec={\"weight\": {\"distribution\": \"uniform\", \"low\": k_ii + 0.2*k_ii, \"high\": k_ii - 0.2*k_ii}})\n",
      "nest.Connect(i21, i21, \"all_to_all\", syn_spec={\"weight\": {\"distribution\": \"uniform\", \"low\": k_ii + 0.2*k_ii, \"high\": k_ii - 0.2*k_ii}})\n",
      "nest.Connect(i31, i31, \"all_to_all\", syn_spec={\"weight\": {\"distribution\": \"uniform\", \"low\": k_ii + 0.2*k_ii, \"high\": k_ii - 0.2*k_ii}})\n",
      "\n",
      "nest.Connect(i12, i12, \"all_to_all\", syn_spec={\"weight\": {\"distribution\": \"uniform\", \"low\": k_ii + 0.2*k_ii, \"high\": k_ii - 0.2*k_ii}})\n",
      "nest.Connect(i22, i22, \"all_to_all\", syn_spec={\"weight\": {\"distribution\": \"uniform\", \"low\": k_ii + 0.2*k_ii, \"high\": k_ii - 0.2*k_ii}})\n",
      "nest.Connect(i32, i32, \"all_to_all\", syn_spec={\"weight\": {\"distribution\": \"uniform\", \"low\": k_ii + 0.2*k_ii, \"high\": k_ii - 0.2*k_ii}})\n",
      "\n"
     ],
     "language": "python",
     "metadata": {},
     "outputs": [],
     "prompt_number": 3
    },
    {
     "cell_type": "code",
     "collapsed": false,
     "input": [
      "spikedetector = nest.Create(\"spike_detector\", params={\"withgid\": True, \"withtime\": True})\n",
      "nest.Connect(e1, spikedetector)"
     ],
     "language": "python",
     "metadata": {},
     "outputs": [],
     "prompt_number": 4
    },
    {
     "cell_type": "code",
     "collapsed": false,
     "input": [
      "nest.Simulate(200.0)"
     ],
     "language": "python",
     "metadata": {},
     "outputs": [],
     "prompt_number": 5
    },
    {
     "cell_type": "code",
     "collapsed": false,
     "input": [
      "spikes = nest.GetStatus(spikedetector, keys=\"events\")[0]\n",
      "events = spikes[\"senders\"]\n",
      "ts = spikes[\"times\"]\n",
      "plt.plot(ts, events, \".\")\n",
      "plt.show()"
     ],
     "language": "python",
     "metadata": {},
     "outputs": [],
     "prompt_number": 6
    },
    {
     "cell_type": "code",
     "collapsed": false,
     "input": [
      "print spikes"
     ],
     "language": "python",
     "metadata": {},
     "outputs": [
      {
       "output_type": "stream",
       "stream": "stdout",
       "text": [
        "{u'senders': array([], dtype=int64), u'times': array([], dtype=float64)}\n"
       ]
      }
     ],
     "prompt_number": 42
    },
    {
     "cell_type": "code",
     "collapsed": false,
     "input": [],
     "language": "python",
     "metadata": {},
     "outputs": []
    }
   ],
   "metadata": {}
  }
 ]
}