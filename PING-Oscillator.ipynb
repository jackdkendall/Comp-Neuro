{
 "metadata": {
  "name": "",
  "signature": "sha256:128d24c1d2b1219c21701115c22adc6d853de1a99082bd0ce07ed8141155b6d1"
 },
 "nbformat": 3,
 "nbformat_minor": 0,
 "worksheets": [
  {
   "cells": [
    {
     "cell_type": "code",
     "collapsed": false,
     "input": [
      "from __future__ import division\n",
      "import numpy as np\n",
      "import matplotlib.pyplot as plt\n",
      "import nest\n",
      "\n",
      "nest.ResetKernel()"
     ],
     "language": "python",
     "metadata": {},
     "outputs": [],
     "prompt_number": 236
    },
    {
     "cell_type": "code",
     "collapsed": false,
     "input": [
      "params_input = [{\"I_e\": 350.0 + 50*np.random.rand(), \"tau_syn_ex\": 0.05, \"tau_syn_in\": 0.1} for x in range(100)]\n",
      "params = {\"tau_syn_ex\": 0.1, \"tau_syn_in\": 0.2}\n",
      "\n",
      "e1 = nest.Create(\"iaf_psc_alpha\", 100, params_input)\n",
      "i1 = nest.Create(\"iaf_psc_alpha\", 100, params)"
     ],
     "language": "python",
     "metadata": {},
     "outputs": [],
     "prompt_number": 237
    },
    {
     "cell_type": "code",
     "collapsed": false,
     "input": [
      "k_ee = 100.0\n",
      "k_ei = 100.0\n",
      "k_ie = -100.0\n",
      "k_ii = -25.0\n",
      "k_alpha = 0.5\n",
      "k_beta = 0.5\n",
      "\n",
      "nest.Connect(e1, e1, \"all_to_all\", syn_spec={\"weight\": {\"distribution\": \"uniform\", \"low\": 0.0, \"high\": k_ee}})\n",
      "nest.Connect(i1, i1, \"all_to_all\", syn_spec={\"weight\": {\"distribution\": \"uniform\", \"low\": k_ii, \"high\": 0.0}})\n",
      "nest.Connect(e1, i1, \"all_to_all\", syn_spec={\"weight\": {\"distribution\": \"uniform\", \"low\": 0.0, \"high\": k_ei}})\n",
      "nest.Connect(i1, e1, \"all_to_all\", syn_spec={\"weight\": {\"distribution\": \"uniform\", \"low\": k_ie, \"high\": 0.0}})"
     ],
     "language": "python",
     "metadata": {},
     "outputs": [],
     "prompt_number": 238
    },
    {
     "cell_type": "code",
     "collapsed": false,
     "input": [
      "spikedetector = nest.Create(\"spike_detector\", params={\"withgid\": True, \"withtime\": True})\n",
      "nest.Connect(e1, spikedetector)"
     ],
     "language": "python",
     "metadata": {},
     "outputs": [],
     "prompt_number": 239
    },
    {
     "cell_type": "code",
     "collapsed": false,
     "input": [
      "nest.Simulate(1000.0)"
     ],
     "language": "python",
     "metadata": {},
     "outputs": [],
     "prompt_number": 240
    },
    {
     "cell_type": "code",
     "collapsed": false,
     "input": [
      "spikes = nest.GetStatus(spikedetector, keys=\"events\")[0]\n",
      "events = spikes[\"senders\"]\n",
      "ts = spikes[\"times\"]\n",
      "plt.plot(ts[1000:2000], events[1000:2000], \".\")\n",
      "plt.show()"
     ],
     "language": "python",
     "metadata": {},
     "outputs": [],
     "prompt_number": 245
    },
    {
     "cell_type": "code",
     "collapsed": false,
     "input": [],
     "language": "python",
     "metadata": {},
     "outputs": []
    }
   ],
   "metadata": {}
  }
 ]
}